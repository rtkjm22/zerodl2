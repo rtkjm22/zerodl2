{
 "cells": [
  {
   "cell_type": "code",
   "execution_count": 4,
   "id": "f9eef370",
   "metadata": {},
   "outputs": [],
   "source": [
    "import sys\n",
    "sys.path.append('..')\n",
    "import numpy as np\n",
    "from common.functions import softmax\n",
    "from ch06.rnnlm import Rnnlm\n",
    "from ch06.better_rnnlm import BetterRnnlm\n",
    "from dataset import ptb\n",
    "\n",
    "class RnnlmGen(Rnnlm):\n",
    "  def generate(self, start_id, skip_ids=None, sample_size=100):\n",
    "    word_ids = [start_id]\n",
    "    \n",
    "    x = start_id\n",
    "    while len(word_ids) < sample_size:\n",
    "      x = np.array(x).reshape(1, 1)\n",
    "      score = self.predict(x)\n",
    "      p = softmax(score.flatten())\n",
    "      \n",
    "      sampled = np.random.choice(len(p), size=1, p=p)\n",
    "      if (skip_ids is None) or (sampled not in skip_ids):\n",
    "        x = sampled\n",
    "        word_ids.append(int(x))\n",
    "    return word_ids"
   ]
  },
  {
   "cell_type": "code",
   "execution_count": 8,
   "id": "a7f67b2f",
   "metadata": {},
   "outputs": [
    {
     "name": "stdout",
     "output_type": "stream",
     "text": [
      "これyou need to workers in as an average number of business 's objectives.\n",
      " according to one executive who was wary in inches my loyalty and only take a heat.\n",
      " after women actually are the argument for repairs who shuttle fly to the highest story.\n",
      " although christie 's said it will become its business to finance buy-outs fared morning.\n",
      " maria government head of newspapers and one is based on the key period of the european commodity and industrial portfolio was to be burned from the european community in their industrial business various industry.\n",
      " which civilian said\n"
     ]
    },
    {
     "name": "stderr",
     "output_type": "stream",
     "text": [
      "/var/folders/tj/fxphmy_x1x12fjr_1vvfskzc0000gn/T/ipykernel_90303/3035969790.py:22: DeprecationWarning: Conversion of an array with ndim > 0 to a scalar is deprecated, and will error in future. Ensure you extract a single element from your array before performing this operation. (Deprecated NumPy 1.25.)\n",
      "  word_ids.append(int(x))\n"
     ]
    }
   ],
   "source": [
    "corpus, word_to_id, id_to_word = ptb.load_data('train')\n",
    "vocab_size = len(word_to_id)\n",
    "corpus_size = len(corpus)\n",
    "\n",
    "model = RnnlmGen()\n",
    "model.load_params('./Rnnlm.pkl')\n",
    "\n",
    "start_word = 'you'\n",
    "start_id = word_to_id[start_word]\n",
    "skip_words = ['N', '<unk>', '$']\n",
    "skip_ids = [word_to_id[w] for w in skip_words]\n",
    "\n",
    "word_ids = model.generate(start_id, skip_ids)\n",
    "txt = ' '.join([id_to_word[i] for i in word_ids])\n",
    "txt = 'これ' + txt.replace(' <eos>', '.\\n')\n",
    "print(txt)"
   ]
  },
  {
   "cell_type": "code",
   "execution_count": 2,
   "id": "1feba31b",
   "metadata": {},
   "outputs": [
    {
     "name": "stdout",
     "output_type": "stream",
     "text": [
      "you are said chairman henry b..\n",
      " the hear larry wright has heard that the strike and proving not to being completed mr. jones said private people are at the heart of the fat.\n",
      " if individual businesses get the center historic lines and his cash and expansion is a possible decision.\n",
      " we 's playing a things through a spreading business.\n",
      " mr. stevenson predicts that exxon 's equity ratio which falls up in line with earnings is not sufficient to achieve that.\n",
      " it wo n't have the ability to generate the value of how they could figure\n",
      "--------------------------------------------------\n",
      "the meaning of life is that the campaign referring to the club of style to keep major spirits in solutions to the industry soviet union is welcome a few salon from youth.\n",
      " the and fabric were a dream to their own intellectual execution during the night to march the 's trip to the ongoing path of educational gambling and possibly the target of the lawyers and mr. smith says.\n",
      " this as argue that in the disputed church he will be a successor to consolidating discipline from a horse in which it 's a gubernatorial ally.\n",
      " the world 's profitable revolutionary employment\n"
     ]
    }
   ],
   "source": [
    "import sys\n",
    "sys.path.append('..')\n",
    "from common.np import *\n",
    "from ch07.rnnlm_gen import BetterRnnlmGen\n",
    "from dataset import ptb\n",
    "\n",
    "\n",
    "corpus, word_to_id, id_to_word = ptb.load_data('train')\n",
    "vocab_size = len(word_to_id)\n",
    "corpus_size = len(corpus)\n",
    "\n",
    "\n",
    "model = BetterRnnlmGen()\n",
    "model.load_params('./ch06/BetterRnnlm.pkl')\n",
    "\n",
    "# start文字とskip文字の設定\n",
    "start_word = 'you'\n",
    "start_id = word_to_id[start_word]\n",
    "skip_words = ['N', '<unk>', '$']\n",
    "skip_ids = [word_to_id[w] for w in skip_words]\n",
    "# 文章生成\n",
    "word_ids = model.generate(start_id, skip_ids)\n",
    "txt = ' '.join([id_to_word[i] for i in word_ids])\n",
    "txt = txt.replace(' <eos>', '.\\n')\n",
    "\n",
    "print(txt)\n",
    "\n",
    "\n",
    "model.reset_state()\n",
    "\n",
    "start_words = 'the meaning of life is'\n",
    "start_ids = [word_to_id[w] for w in start_words.split(' ')]\n",
    "\n",
    "for x in start_ids[:-1]:\n",
    "    x = np.array(x).reshape(1, 1)\n",
    "    model.predict(x)\n",
    "\n",
    "word_ids = model.generate(start_ids[-1], skip_ids)\n",
    "word_ids = start_ids[:-1] + word_ids\n",
    "txt = ' '.join([id_to_word[i] for i in word_ids])\n",
    "txt = txt.replace(' <eos>', '.\\n')\n",
    "print('-' * 50)\n",
    "print(txt)"
   ]
  },
  {
   "cell_type": "code",
   "execution_count": null,
   "id": "589e1b16",
   "metadata": {},
   "outputs": [],
   "source": []
  },
  {
   "cell_type": "code",
   "execution_count": null,
   "id": "8de36d1d",
   "metadata": {},
   "outputs": [],
   "source": []
  }
 ],
 "metadata": {
  "kernelspec": {
   "display_name": "venv",
   "language": "python",
   "name": "python3"
  },
  "language_info": {
   "codemirror_mode": {
    "name": "ipython",
    "version": 3
   },
   "file_extension": ".py",
   "mimetype": "text/x-python",
   "name": "python",
   "nbconvert_exporter": "python",
   "pygments_lexer": "ipython3",
   "version": "3.12.9"
  }
 },
 "nbformat": 4,
 "nbformat_minor": 5
}
