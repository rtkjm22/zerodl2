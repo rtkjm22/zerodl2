{
 "cells": [
  {
   "cell_type": "code",
   "execution_count": 2,
   "id": "9127a5d6",
   "metadata": {},
   "outputs": [],
   "source": [
    "import sys\n",
    "sys.path.append('..')\n",
    "from common.np import *\n",
    "from ch07.rnnlm_gen import BetterRnnlmGen\n",
    "from dataset import ptb\n",
    "from common.time_layers import *"
   ]
  },
  {
   "cell_type": "code",
   "execution_count": 5,
   "id": "940565af",
   "metadata": {},
   "outputs": [],
   "source": [
    "class Encoder:\n",
    "  def __init__(self, vocab_size, wordvec_size, hidden_size):\n",
    "    V, D, H = vocab_size, wordvec_size, hidden_size\n",
    "    rn = np.random.randn\n",
    "\n",
    "    embed_W = (rn(V, D) / 100).astype('f')\n",
    "    lstm_Wx = (rn(D, 4 * H) / np.sqrt(D)).astype('f')\n",
    "    lstm_Wh = (rn(H, 4 * H) / np.sqrt(H)).astype('f')\n",
    "    lstm_b = np.zeros(4 * H).astype('f')\n",
    "    \n",
    "    self.embed = TimeEmbedding(embed_W)\n",
    "    self.lstm = TimeLSTM(lstm_Wx, lstm_Wh, lstm_b, stateful=False)\n",
    "    \n",
    "    self.params = self.embed.params + self.lstm.params\n",
    "    self.grads = self.embed.grads + self.lstm.grads\n",
    "    \n",
    "  def forward(self, xs):\n",
    "    xs = self.embed.forward(xs)\n",
    "    hs = self.lstm.forward(xs)\n",
    "    self.hs = hs\n",
    "    return hs[:, -1, :]\n",
    "  \n",
    "  def backward(self, dh):\n",
    "    dhs = np.zeros_like(self.hs)\n",
    "    dhs[:, -1, :] = dh\n",
    "\n",
    "    dout = self.lstm.backward(dhs)\n",
    "    dout = self.embed.backward(dout)\n",
    "    return dout"
   ]
  },
  {
   "cell_type": "code",
   "execution_count": null,
   "id": "d10527b9",
   "metadata": {},
   "outputs": [],
   "source": []
  }
 ],
 "metadata": {
  "kernelspec": {
   "display_name": "venv",
   "language": "python",
   "name": "python3"
  },
  "language_info": {
   "codemirror_mode": {
    "name": "ipython",
    "version": 3
   },
   "file_extension": ".py",
   "mimetype": "text/x-python",
   "name": "python",
   "nbconvert_exporter": "python",
   "pygments_lexer": "ipython3",
   "version": "3.12.9"
  }
 },
 "nbformat": 4,
 "nbformat_minor": 5
}
